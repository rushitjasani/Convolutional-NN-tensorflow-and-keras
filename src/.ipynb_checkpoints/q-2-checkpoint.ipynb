{
 "cells": [
  {
   "cell_type": "markdown",
   "metadata": {},
   "source": [
    "### Q1 : What are the number of parameters in 1st convolutional layers ?\n",
    "\n",
    "* To find the number of parameters, we use the following formula :\n",
    "\n",
    "```\n",
    "    P = (N*M*L + 1)*K\n",
    "    Where N, M = Dimensions of the Filter used.\n",
    "    L = Number of Input channel\n",
    "    K = Number of Filters.\n",
    "```\n",
    "#### First Convolution Layer\n",
    "* Number of Parameters = (5\\*5\\*3 + 1)\\*6 = 456 Parameters."
   ]
  },
  {
   "cell_type": "markdown",
   "metadata": {},
   "source": [
    "### Q2 : What are the number of parameters in pooling operation?\n",
    "\n",
    "* We are just finding the maximum in the input block, there is no parameter required for that.\n",
    "* Thus, the number of parameters in the Max Pooling Operations are 0."
   ]
  },
  {
   "cell_type": "markdown",
   "metadata": {},
   "source": [
    "### Q3 : Which of the following operations contain most number of parameters?<br/> (a) conv (b) pool (c) Fully connected layer (FC) (d) Activation Functions\n",
    "\n",
    "The Parameters are as follows :\n",
    "1. In First Convolution Layer : 456 Parameters\n",
    "2. In Second Convolution Layer : 2416 Parameters\n",
    "3. In Max Pooling (Both) : 0 Parameters\n",
    "4. In FC-Convolution (For Flattening) : 48120 Parameters\n",
    "5. In FC, Input to Hidden : 10164\n",
    "6. Hidden to Output : 850 thus total : 11014 Parameters.\n",
    "\n",
    "Thus the maximum number of parameters are in the FC Convolution Layer where the flattening is done."
   ]
  },
  {
   "cell_type": "markdown",
   "metadata": {},
   "source": [
    "### Q4 : Which operation consume most amount of memory? <br/>(a) initial convolution layers (b) fully connected layers at the end\n",
    "\n",
    "* Initial Convolution Layers requires the most amount of memory. The reason being it increases the number of input channels."
   ]
  },
  {
   "cell_type": "markdown",
   "metadata": {},
   "source": [
    "### Q5 : Try different activation functions and describe observations"
   ]
  }
 ],
 "metadata": {
  "kernelspec": {
   "display_name": "Python 2",
   "language": "python",
   "name": "python2"
  },
  "language_info": {
   "codemirror_mode": {
    "name": "ipython",
    "version": 2
   },
   "file_extension": ".py",
   "mimetype": "text/x-python",
   "name": "python",
   "nbconvert_exporter": "python",
   "pygments_lexer": "ipython2",
   "version": "2.7.15+"
  }
 },
 "nbformat": 4,
 "nbformat_minor": 2
}
